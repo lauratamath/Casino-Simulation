{
 "cells": [
  {
   "cell_type": "markdown",
   "metadata": {},
   "source": [
    "## Simulación Casino\n",
    "LAURA MARIA LEVI TAMATH PEREZ |  MARTIN EDUARDO ESPANA RIVERA |  JULIO ROBERTO HERRERA SABAN | SOFIA ALEXANDRA RUEDA LARA | OLIVER JOSUE DE LEON MILIAN\n"
   ]
  },
  {
   "cell_type": "markdown",
   "metadata": {},
   "source": [
    "Tiempo simulado: 5 horas"
   ]
  },
  {
   "cell_type": "code",
   "execution_count": null,
   "metadata": {},
   "outputs": [],
   "source": [
    "from CasinoGambaSureña import *\n",
    "\n",
    "# Abre el casino Gamba Sureña\n",
    "# Promedio de clientes\n",
    "average_incidence = 0.25\n",
    "# Ruletas en el casino\n",
    "roulette_n = 6\n",
    "# cantidad de horas de simulacion\n",
    "hours = 5\n",
    "\n",
    "# Create Simulation\n",
    "FdS = Casino(average_incidence=average_incidence, roulette_no=roulette_n, time=hours)\n",
    "df_players, df_roulettes, df_bets = FdS.simulate()"
   ]
  },
  {
   "cell_type": "markdown",
   "metadata": {},
   "source": [
    "Cantidad de personas que llegaron a jugar"
   ]
  },
  {
   "cell_type": "code",
   "execution_count": null,
   "metadata": {},
   "outputs": [],
   "source": [
    "len(df_players)"
   ]
  },
  {
   "cell_type": "markdown",
   "metadata": {},
   "source": [
    "Cantidad de dinero que ganó/perdió el casino"
   ]
  },
  {
   "cell_type": "code",
   "execution_count": null,
   "metadata": {},
   "outputs": [],
   "source": [
    "df_bets = df_bets.dropna().reset_index(drop=True)\n",
    "\n",
    "casinoEarnings = 0\n",
    "\n",
    "for i in range(len(df_bets)):\n",
    "  if df_bets['earnings'][i] < 0:\n",
    "    casinoEarnings += abs(df_bets['earnings'][i])\n",
    "\n",
    "casinoEarnings\n"
   ]
  },
  {
   "cell_type": "markdown",
   "metadata": {},
   "source": [
    "Dinero total jugado"
   ]
  },
  {
   "cell_type": "code",
   "execution_count": null,
   "metadata": {},
   "outputs": [],
   "source": [
    "totalMoney = 0\n",
    "\n",
    "for i in range(len(df_bets)):\n",
    "  totalMoney += df_bets['amount'][i]\n",
    "\n",
    "totalMoney"
   ]
  },
  {
   "cell_type": "markdown",
   "metadata": {},
   "source": [
    "Promedio de dinero ganado por cada jugador"
   ]
  },
  {
   "cell_type": "code",
   "execution_count": null,
   "metadata": {},
   "outputs": [],
   "source": [
    "df_bets['earnings'].mean()"
   ]
  },
  {
   "cell_type": "markdown",
   "metadata": {},
   "source": [
    "Probabilidad de que el casino gane vs que el jugador gane"
   ]
  },
  {
   "cell_type": "code",
   "execution_count": null,
   "metadata": {},
   "outputs": [],
   "source": [
    "# Probabilidad de que el casino gane\n",
    "len(df_bets[df_bets['win'] == False]) / len(df_bets)"
   ]
  },
  {
   "cell_type": "code",
   "execution_count": null,
   "metadata": {},
   "outputs": [],
   "source": [
    "# Probabilidad de que el jugador gane\n",
    "len(df_bets[df_bets['win'] == True]) / len(df_bets)"
   ]
  },
  {
   "cell_type": "markdown",
   "metadata": {},
   "source": [
    "Cantidad de rojos obtenidos"
   ]
  },
  {
   "cell_type": "code",
   "execution_count": null,
   "metadata": {},
   "outputs": [],
   "source": [
    "redCount = 0\n",
    "\n",
    "for i in range(len(df_bets)):\n",
    "  if df_bets['result'][i]['color'] == 'red':\n",
    "    redCount += 1\n",
    "# df_bets['result'][0]['color']\n",
    "\n",
    "redCount"
   ]
  },
  {
   "cell_type": "markdown",
   "metadata": {},
   "source": [
    "Cantidad de negros obtenidos"
   ]
  },
  {
   "cell_type": "code",
   "execution_count": null,
   "metadata": {},
   "outputs": [],
   "source": [
    "blackCount = 0\n",
    "\n",
    "for i in range(len(df_bets)):\n",
    "  if df_bets['result'][i]['color'] == 'black':\n",
    "    blackCount += 1\n",
    "\n",
    "blackCount"
   ]
  },
  {
   "cell_type": "markdown",
   "metadata": {},
   "source": [
    "Cantidad de verdes obtenidos"
   ]
  },
  {
   "cell_type": "code",
   "execution_count": null,
   "metadata": {},
   "outputs": [],
   "source": [
    "greenCount = 0\n",
    "\n",
    "for i in range(len(df_bets)):\n",
    "  if df_bets['result'][i]['color'] == 'green':\n",
    "    greenCount += 1\n",
    "\n",
    "greenCount"
   ]
  },
  {
   "cell_type": "markdown",
   "metadata": {},
   "source": [
    "Rondas jugadas"
   ]
  },
  {
   "cell_type": "code",
   "execution_count": null,
   "metadata": {},
   "outputs": [],
   "source": [
    "roundResults = []\n",
    "\n",
    "# Si se quisiera obtener las rondas por mesa\n",
    "# for i in range(len(df_roulettes)): \n",
    "for j in range(len(df_bets)):\n",
    "  if df_bets['result'][j] not in roundResults:\n",
    "    roundResults.append(df_bets['result'][j])\n",
    "\n",
    "len(roundResults)"
   ]
  },
  {
   "cell_type": "markdown",
   "metadata": {},
   "source": [
    "Cantidad de rondas por jugador promedio"
   ]
  },
  {
   "cell_type": "markdown",
   "metadata": {},
   "source": [
    "Promedio de tiempo de juego"
   ]
  },
  {
   "cell_type": "markdown",
   "metadata": {},
   "source": [
    "Cantidad de dinero por mesa"
   ]
  }
 ],
 "metadata": {
  "kernelspec": {
   "display_name": "Python 3.10.5 64-bit",
   "language": "python",
   "name": "python3"
  },
  "language_info": {
   "codemirror_mode": {
    "name": "ipython",
    "version": 3
   },
   "file_extension": ".py",
   "mimetype": "text/x-python",
   "name": "python",
   "nbconvert_exporter": "python",
   "pygments_lexer": "ipython3",
   "version": "3.10.5"
  },
  "orig_nbformat": 4,
  "vscode": {
   "interpreter": {
    "hash": "e7ccb2a435b656723dafd2fb88eb02b6891256ab8b77d2cf3044cea9811453d0"
   }
  }
 },
 "nbformat": 4,
 "nbformat_minor": 2
}
