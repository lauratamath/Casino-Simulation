{
 "cells": [
  {
   "cell_type": "markdown",
   "metadata": {},
   "source": [
    "## Simulación Casino\n",
    "LAURA MARIA LEVI TAMATH PEREZ |  MARTIN EDUARDO ESPANA RIVERA |  JULIO ROBERTO HERRERA SABAN | SOFIA ALEXANDRA RUEDA LARA | OLIVER JOSUE DE LEON MILIAN\n"
   ]
  },
  {
   "cell_type": "markdown",
   "metadata": {},
   "source": [
    "Tiempo simulado: 5 horas"
   ]
  },
  {
   "cell_type": "code",
   "execution_count": 127,
   "metadata": {},
   "outputs": [],
   "source": [
    "from CasinoGambaSureña import *\n",
    "\n",
    "# Abre el casino Gamba Sureña\n",
    "# Promedio de clientes\n",
    "average_incidence = 0.8\n",
    "# Ruletas en el casino\n",
    "roulette_n = 6\n",
    "# cantidad de horas de simulacion\n",
    "hours = 72\n",
    "\n",
    "# Create Simulation\n",
    "FdS = Casino(average_incidence=average_incidence, roulette_no=roulette_n, time=hours)\n",
    "df_players, df_roulettes, df_bets = FdS.simulate()"
   ]
  },
  {
   "cell_type": "markdown",
   "metadata": {},
   "source": [
    "Cantidad de personas que llegaron a jugar"
   ]
  },
  {
   "cell_type": "code",
   "execution_count": 128,
   "metadata": {},
   "outputs": [
    {
     "data": {
      "text/plain": [
       "3090"
      ]
     },
     "execution_count": 128,
     "metadata": {},
     "output_type": "execute_result"
    }
   ],
   "source": [
    "len(df_players)"
   ]
  },
  {
   "cell_type": "markdown",
   "metadata": {},
   "source": [
    "Cantidad de dinero que ganó/perdió el casino"
   ]
  },
  {
   "cell_type": "code",
   "execution_count": 129,
   "metadata": {},
   "outputs": [
    {
     "data": {
      "text/plain": [
       "159876.0"
      ]
     },
     "execution_count": 129,
     "metadata": {},
     "output_type": "execute_result"
    }
   ],
   "source": [
    "df_bets = df_bets.dropna().reset_index(drop=True)\n",
    "\n",
    "casinoEarnings = 0\n",
    "\n",
    "for i in range(len(df_bets)):\n",
    "  if df_bets['earnings'][i] < 0:\n",
    "    casinoEarnings += abs(df_bets['earnings'][i])\n",
    "\n",
    "casinoEarnings\n"
   ]
  },
  {
   "cell_type": "markdown",
   "metadata": {},
   "source": [
    "Dinero total jugado"
   ]
  },
  {
   "cell_type": "code",
   "execution_count": 130,
   "metadata": {},
   "outputs": [
    {
     "data": {
      "text/plain": [
       "175417"
      ]
     },
     "execution_count": 130,
     "metadata": {},
     "output_type": "execute_result"
    }
   ],
   "source": [
    "totalMoney = 0\n",
    "\n",
    "for i in range(len(df_bets)):\n",
    "  totalMoney += df_bets['amount'][i]\n",
    "\n",
    "totalMoney"
   ]
  },
  {
   "cell_type": "markdown",
   "metadata": {},
   "source": [
    "Promedio de dinero ganado por cada jugador"
   ]
  },
  {
   "cell_type": "code",
   "execution_count": 131,
   "metadata": {},
   "outputs": [
    {
     "data": {
      "text/plain": [
       "4.14059853190288"
      ]
     },
     "execution_count": 131,
     "metadata": {},
     "output_type": "execute_result"
    }
   ],
   "source": [
    "df_bets['earnings'].mean()"
   ]
  },
  {
   "cell_type": "markdown",
   "metadata": {},
   "source": [
    "Probabilidad de que el casino gane vs que el jugador gane"
   ]
  },
  {
   "cell_type": "code",
   "execution_count": 132,
   "metadata": {},
   "outputs": [
    {
     "data": {
      "text/plain": [
       "0.9147374364765669"
      ]
     },
     "execution_count": 132,
     "metadata": {},
     "output_type": "execute_result"
    }
   ],
   "source": [
    "# Probabilidad de que el casino gane\n",
    "len(df_bets[df_bets['win'] == False]) / len(df_bets)"
   ]
  },
  {
   "cell_type": "code",
   "execution_count": 133,
   "metadata": {},
   "outputs": [
    {
     "data": {
      "text/plain": [
       "0.08526256352343309"
      ]
     },
     "execution_count": 133,
     "metadata": {},
     "output_type": "execute_result"
    }
   ],
   "source": [
    "# Probabilidad de que el jugador gane\n",
    "len(df_bets[df_bets['win'] == True]) / len(df_bets)"
   ]
  },
  {
   "cell_type": "markdown",
   "metadata": {},
   "source": [
    "Cantidad de rojos obtenidos"
   ]
  },
  {
   "cell_type": "code",
   "execution_count": 134,
   "metadata": {},
   "outputs": [
    {
     "data": {
      "text/plain": [
       "1683"
      ]
     },
     "execution_count": 134,
     "metadata": {},
     "output_type": "execute_result"
    }
   ],
   "source": [
    "redCount = 0\n",
    "\n",
    "for i in range(len(df_bets)):\n",
    "  if df_bets['result'][i]['color'] == 'red':\n",
    "    redCount += 1\n",
    "# df_bets['result'][0]['color']\n",
    "\n",
    "redCount"
   ]
  },
  {
   "cell_type": "markdown",
   "metadata": {},
   "source": [
    "Cantidad de negros obtenidos"
   ]
  },
  {
   "cell_type": "code",
   "execution_count": 135,
   "metadata": {},
   "outputs": [
    {
     "data": {
      "text/plain": [
       "1731"
      ]
     },
     "execution_count": 135,
     "metadata": {},
     "output_type": "execute_result"
    }
   ],
   "source": [
    "blackCount = 0\n",
    "\n",
    "for i in range(len(df_bets)):\n",
    "  if df_bets['result'][i]['color'] == 'black':\n",
    "    blackCount += 1\n",
    "\n",
    "blackCount"
   ]
  },
  {
   "cell_type": "markdown",
   "metadata": {},
   "source": [
    "Cantidad de verdes obtenidos"
   ]
  },
  {
   "cell_type": "code",
   "execution_count": 136,
   "metadata": {},
   "outputs": [
    {
     "data": {
      "text/plain": [
       "128"
      ]
     },
     "execution_count": 136,
     "metadata": {},
     "output_type": "execute_result"
    }
   ],
   "source": [
    "greenCount = 0\n",
    "\n",
    "for i in range(len(df_bets)):\n",
    "  if df_bets['result'][i]['color'] == 'green':\n",
    "    greenCount += 1\n",
    "\n",
    "greenCount"
   ]
  },
  {
   "cell_type": "markdown",
   "metadata": {},
   "source": [
    "Rondas jugadas"
   ]
  },
  {
   "cell_type": "code",
   "execution_count": null,
   "metadata": {},
   "outputs": [],
   "source": [
    "roundResults = []\n",
    "\n",
    "# Si se quisiera obtener las rondas por mesa\n",
    "# for i in range(len(df_roulettes)): \n",
    "for j in range(len(df_bets)):\n",
    "  if df_bets['result'][j] not in roundResults:\n",
    "    roundResults.append(df_bets['result'][j])\n",
    "\n",
    "len(roundResults)"
   ]
  },
  {
   "cell_type": "markdown",
   "metadata": {},
   "source": [
    "Cantidad de rondas por jugador promedio"
   ]
  },
  {
   "cell_type": "code",
   "execution_count": 144,
   "metadata": {},
   "outputs": [],
   "source": [
    "# sumRounds = 0\n",
    "# for i in range(len(df_players)):\n",
    "#     appears = 0\n",
    "#     if len(df_bets[df_bets['player_no'] == i+1]) > 1:\n",
    "#         appears = len(df_bets[df_bets['player_no'] == i+1])\n",
    "#         print(f'player: {i} - rounds: {appears}')\n",
    "    \n",
    "#     else:\n",
    "#         appears += 1\n",
    "\n",
    "#     sumRounds += appears\n",
    "\n",
    "# sumRounds/len(df_players)\n"
   ]
  },
  {
   "cell_type": "code",
   "execution_count": 139,
   "metadata": {},
   "outputs": [
    {
     "data": {
      "text/plain": [
       "1.1590314136125655"
      ]
     },
     "execution_count": 139,
     "metadata": {},
     "output_type": "execute_result"
    }
   ],
   "source": [
    "from statistics import mean\n",
    "rounds = df_bets.groupby(['player_no']).size()\n",
    "mean(rounds)"
   ]
  },
  {
   "cell_type": "markdown",
   "metadata": {},
   "source": [
    "Promedio de tiempo de juego"
   ]
  },
  {
   "cell_type": "code",
   "execution_count": 140,
   "metadata": {},
   "outputs": [
    {
     "data": {
      "text/plain": [
       "42.85203728096665"
      ]
     },
     "execution_count": 140,
     "metadata": {},
     "output_type": "execute_result"
    }
   ],
   "source": [
    "mean(df_bets['wait_time'])"
   ]
  },
  {
   "cell_type": "markdown",
   "metadata": {},
   "source": [
    "Cantidad de dinero por mesa"
   ]
  },
  {
   "cell_type": "code",
   "execution_count": 141,
   "metadata": {},
   "outputs": [
    {
     "data": {
      "text/plain": [
       "[23317.0, 24243.0, 29896.0, 30856.0, 23533.0, 28031.0]"
      ]
     },
     "execution_count": 141,
     "metadata": {},
     "output_type": "execute_result"
    }
   ],
   "source": [
    "casinoEarnings_perTable = []\n",
    "for i in range(len(df_roulettes)):\n",
    "  casinoEarnings_perTable.append(0)\n",
    "\n",
    "\n",
    "for i in range(len(df_roulettes)):\n",
    "  for j in range(len(df_bets)):\n",
    "    if df_bets['earnings'][j] < 0 and df_bets['roulette_no'][j] == [i]:\n",
    "      casinoEarnings_perTable[i] += abs(df_bets['earnings'][j])\n",
    "\n",
    "casinoEarnings_perTable"
   ]
  },
  {
   "cell_type": "code",
   "execution_count": 150,
   "metadata": {},
   "outputs": [
    {
     "data": {
      "image/png": "[encoded data removed]",
      "text/plain": [
       "<Figure size 432x288 with 1 Axes>"
      ]
     },
     "metadata": {
      "needs_background": "light"
     },
     "output_type": "display_data"
    }
   ],
   "source": [
    "df_bets.plot.scatter(x='player_no', y='earnings')\n",
    "# plt.ylim(min(df_bets['earnings']), max(df_bets['earnings']))\n",
    "plt.show()\n",
    "# df_bets\n",
    "# max(df_bets['earnings'])"
   ]
  },
  {
   "cell_type": "code",
   "execution_count": 151,
   "metadata": {},
   "outputs": [
    {
     "data": {
      "image/png": "[encoded data removed]",
      "text/plain": [
       "<Figure size 432x288 with 1 Axes>"
      ]
     },
     "metadata": {
      "needs_background": "light"
     },
     "output_type": "display_data"
    }
   ],
   "source": [
    "df_bets.plot.scatter(x='player_no', y='earnings')\n",
    "plt.show()"
   ]
  }
 ],
 "metadata": {
  "kernelspec": {
   "display_name": "Python 3.10.5 64-bit",
   "language": "python",
   "name": "python3"
  },
  "language_info": {
   "codemirror_mode": {
    "name": "ipython",
    "version": 3
   },
   "file_extension": ".py",
   "mimetype": "text/x-python",
   "name": "python",
   "nbconvert_exporter": "python",
   "pygments_lexer": "ipython3",
   "version": "3.10.5"
  },
  "orig_nbformat": 4,
  "vscode": {
   "interpreter": {
    "hash": "e7ccb2a435b656723dafd2fb88eb02b6891256ab8b77d2cf3044cea9811453d0"
   }
  }
 },
 "nbformat": 4,
 "nbformat_minor": 2
}
