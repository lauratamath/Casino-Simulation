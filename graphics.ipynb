{
 "cells": [
  {
   "cell_type": "markdown",
   "metadata": {},
   "source": [
    "## Simulación Casino\n",
    "LAURA MARIA LEVI TAMATH PEREZ |  MARTIN EDUARDO ESPANA RIVERA |  JULIO ROBERTO HERRERA SABAN | SOFIA ALEXANDRA RUEDA LARA | OLIVER JOSUE DE LEON MILIAN\n"
   ]
  },
  {
   "cell_type": "markdown",
   "metadata": {},
   "source": []
  }
 ],
 "metadata": {
  "language_info": {
   "name": "python"
  },
  "orig_nbformat": 4
 },
 "nbformat": 4,
 "nbformat_minor": 2
}
